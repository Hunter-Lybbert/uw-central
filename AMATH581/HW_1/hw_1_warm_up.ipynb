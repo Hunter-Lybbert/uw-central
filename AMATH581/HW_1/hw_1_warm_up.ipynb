{
 "cells": [
  {
   "cell_type": "markdown",
   "id": "5a5a565d-c33b-4870-9691-945cbb9c675e",
   "metadata": {},
   "source": [
    "# HW 1 Warm Up\n",
    "#### Hunter Lybbert\n",
    "#### Student ID 2426454\n",
    "#### 09-27-24"
   ]
  },
  {
   "cell_type": "code",
   "execution_count": 20,
   "id": "a7c59174-ad7c-4098-89b3-b396dd13f569",
   "metadata": {},
   "outputs": [],
   "source": [
    "import numpy as np\n",
    "from scipy.optimize import newton, bisect"
   ]
  },
  {
   "cell_type": "markdown",
   "id": "308a5f86-ae95-4fb0-8b15-6bc6c20924dd",
   "metadata": {},
   "source": [
    "## Part I"
   ]
  },
  {
   "cell_type": "code",
   "execution_count": 21,
   "id": "ed556e05-741a-403b-abe4-8ddc27d7e8a8",
   "metadata": {},
   "outputs": [],
   "source": [
    "def func(x: float) -> float:\n",
    "    \"\"\"The function we are trying to approximate today\"\"\"\n",
    "    return x*np.sin(3*x) - np.exp(x)"
   ]
  },
  {
   "cell_type": "code",
   "execution_count": 22,
   "id": "ccf6c206-df74-4621-aed1-879b97374d11",
   "metadata": {},
   "outputs": [],
   "source": [
    "res_newton = newton(\n",
    "    func=func,\n",
    "    x0=-0.5,\n",
    "    full_output=True,\n",
    "    tol=1e-6\n",
    ")"
   ]
  },
  {
   "cell_type": "code",
   "execution_count": 23,
   "id": "9e75da17-68c9-45e5-b064-1e1f899d633c",
   "metadata": {},
   "outputs": [
    {
     "data": {
      "text/plain": [
       "(np.float64(-0.570789622465946),\n",
       "       converged: True\n",
       "            flag: converged\n",
       "  function_calls: 6\n",
       "      iterations: 5\n",
       "            root: -0.570789622465946\n",
       "          method: secant)"
      ]
     },
     "execution_count": 23,
     "metadata": {},
     "output_type": "execute_result"
    }
   ],
   "source": [
    "res_newton"
   ]
  },
  {
   "cell_type": "code",
   "execution_count": 24,
   "id": "1e5e60cb-79c8-4fd4-85d1-7773f0384022",
   "metadata": {},
   "outputs": [],
   "source": [
    "res_bisect = bisect(\n",
    "    f=func,\n",
    "    a=-0.7,\n",
    "    b=-0.4,\n",
    "    full_output=True,\n",
    "    xtol=1e-6,\n",
    ")"
   ]
  },
  {
   "cell_type": "code",
   "execution_count": 25,
   "id": "aca83b8a-9f3e-4b89-8205-5d6f9455d7ec",
   "metadata": {},
   "outputs": [
    {
     "data": {
      "text/plain": [
       "(-0.5707899093627932,\n",
       "       converged: True\n",
       "            flag: converged\n",
       "  function_calls: 21\n",
       "      iterations: 19\n",
       "            root: -0.5707899093627932\n",
       "          method: bisect)"
      ]
     },
     "execution_count": 25,
     "metadata": {},
     "output_type": "execute_result"
    }
   ],
   "source": [
    "res_bisect"
   ]
  },
  {
   "cell_type": "code",
   "execution_count": 26,
   "id": "2673384c-184a-448d-94d8-1f2e105dce2e",
   "metadata": {},
   "outputs": [],
   "source": [
    "# A1 is the vector of x-values in the Newton method starting with the initial guess x(1) = -1.6\n",
    "A01_npy = None\n",
    "# A2 is the midpoint x_mid values in the bisection method for successive iterations\n",
    "A02_npy =  None\n",
    "# A3 is a 1x2 vector with number of iterations for the Newton and bisection methods respectively as the two components\n",
    "A03_npy = None"
   ]
  },
  {
   "cell_type": "code",
   "execution_count": null,
   "id": "fd73a39c-85ba-4ee5-90d8-753f09ea32be",
   "metadata": {},
   "outputs": [],
   "source": []
  },
  {
   "cell_type": "code",
   "execution_count": 27,
   "id": "83657d73-2e80-439e-83cc-0623589cdc52",
   "metadata": {},
   "outputs": [],
   "source": [
    "# np.save(\"solutions/A01.npy\", A01_npy)\n",
    "# np.save(\"solutions/A02.npy\", A02_npy)\n",
    "# np.save(\"solutions/A03.npy\", A03_npy)"
   ]
  },
  {
   "cell_type": "markdown",
   "id": "a9a62603-7396-4ec3-a1e7-fcd7d1ac2f1d",
   "metadata": {},
   "source": [
    "## Part II"
   ]
  },
  {
   "cell_type": "code",
   "execution_count": 28,
   "id": "260a5843-f8c9-419f-a80f-90ee2be6b7cc",
   "metadata": {},
   "outputs": [],
   "source": [
    "A = np.array([\n",
    "    [ 1, 2],\n",
    "    [-1, 1],\n",
    "])\n",
    "B = np.array([\n",
    "    [2, 0],\n",
    "    [0, 2],\n",
    "])\n",
    "C = np.array([\n",
    "    [2, 0, -3],\n",
    "    [0, 0, -1],\n",
    "])\n",
    "D = np.array([\n",
    "    [1, 2],\n",
    "    [2, 3],\n",
    "    [-1, 0],\n",
    "])\n",
    "x = np.array([1, 0])\n",
    "y = np.array([0, 1])\n",
    "z = np.array([1, 2, -1])"
   ]
  },
  {
   "cell_type": "code",
   "execution_count": 29,
   "id": "258d17f3-2d46-41a8-bc14-80f106af5c91",
   "metadata": {},
   "outputs": [],
   "source": [
    "A04_npy = A + B"
   ]
  },
  {
   "cell_type": "code",
   "execution_count": 30,
   "id": "0b727fde-5902-42d5-9201-ab58d3436625",
   "metadata": {},
   "outputs": [],
   "source": [
    "A05_npy = 3*x - 4*y"
   ]
  },
  {
   "cell_type": "code",
   "execution_count": 31,
   "id": "9dc0b8a5-6a6e-414f-a353-3d93426e1cfb",
   "metadata": {},
   "outputs": [],
   "source": [
    "A06_npy = A@x"
   ]
  },
  {
   "cell_type": "code",
   "execution_count": 32,
   "id": "723ddb0e-145d-43a0-b499-ba828cd48e0f",
   "metadata": {},
   "outputs": [],
   "source": [
    "A07_npy = B@(x - y)"
   ]
  },
  {
   "cell_type": "code",
   "execution_count": 33,
   "id": "170354e6-cf68-45a6-8498-d88b79c299e9",
   "metadata": {},
   "outputs": [],
   "source": [
    "A08_npy = D@x"
   ]
  },
  {
   "cell_type": "code",
   "execution_count": 34,
   "id": "a3949d3a-2cf3-40dd-ac61-e87d0167ec73",
   "metadata": {},
   "outputs": [],
   "source": [
    "A09_npy = D@y + z"
   ]
  },
  {
   "cell_type": "code",
   "execution_count": 35,
   "id": "b4bcfda1-2694-45cc-955f-d9dc6d0a2695",
   "metadata": {},
   "outputs": [],
   "source": [
    "A10_npy = A@B"
   ]
  },
  {
   "cell_type": "code",
   "execution_count": 36,
   "id": "2a231fa8-18e3-48c3-9d66-7db51dc9c0f5",
   "metadata": {},
   "outputs": [],
   "source": [
    "A11_npy = B@C"
   ]
  },
  {
   "cell_type": "code",
   "execution_count": 37,
   "id": "03a8374a-2ec5-454c-a910-c69e7596337f",
   "metadata": {},
   "outputs": [],
   "source": [
    "A12_npy = C@D"
   ]
  },
  {
   "cell_type": "markdown",
   "id": "077b9851-3a95-4d2f-9907-347e1b29032b",
   "metadata": {},
   "source": [
    "#### Save solutions"
   ]
  },
  {
   "cell_type": "code",
   "execution_count": 38,
   "id": "56f5f615-4602-4e81-8b4a-4aa99264e424",
   "metadata": {},
   "outputs": [],
   "source": [
    "np.save(\"solutions/A04.npy\", A04_npy)\n",
    "np.save(\"solutions/A05.npy\", A05_npy)\n",
    "np.save(\"solutions/A06.npy\", A06_npy)\n",
    "np.save(\"solutions/A07.npy\", A07_npy)\n",
    "np.save(\"solutions/A08.npy\", A08_npy)\n",
    "np.save(\"solutions/A09.npy\", A09_npy)\n",
    "np.save(\"solutions/A10.npy\", A10_npy)\n",
    "np.save(\"solutions/A11.npy\", A11_npy)\n",
    "np.save(\"solutions/A12.npy\", A12_npy)"
   ]
  },
  {
   "cell_type": "code",
   "execution_count": null,
   "id": "78a520e5-1b02-4500-ab54-a78c34234a6a",
   "metadata": {},
   "outputs": [],
   "source": []
  }
 ],
 "metadata": {
  "kernelspec": {
   "display_name": "Python 3 (ipykernel)",
   "language": "python",
   "name": "python3"
  },
  "language_info": {
   "codemirror_mode": {
    "name": "ipython",
    "version": 3
   },
   "file_extension": ".py",
   "mimetype": "text/x-python",
   "name": "python",
   "nbconvert_exporter": "python",
   "pygments_lexer": "ipython3",
   "version": "3.11.8"
  }
 },
 "nbformat": 4,
 "nbformat_minor": 5
}
