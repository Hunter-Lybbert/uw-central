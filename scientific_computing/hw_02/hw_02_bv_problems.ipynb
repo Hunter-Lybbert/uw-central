{
 "cells": [
  {
   "cell_type": "code",
   "execution_count": 1,
   "metadata": {},
   "outputs": [],
   "source": [
    "from typing import Iterable\n",
    "\n",
    "import numpy as np\n",
    "import matplotlib.pyplot as plt\n",
    "from scipy.integrate import odeint"
   ]
  },
  {
   "cell_type": "code",
   "execution_count": 2,
   "metadata": {},
   "outputs": [],
   "source": [
    "def shoot_for_hw(\n",
    "    phi_n: np.array,\n",
    "    epsilon_n: float,\n",
    "    x_value: float,\n",
    "    K: int = 1,\n",
    ") -> np.array:\n",
    "    \"\"\"\"Therefore\"\"\"\n",
    "    return np.array(\n",
    "        [\n",
    "            phi_n[1],\n",
    "            (K*x_value**2 - epsilon_n)*phi_n[0]\n",
    "        ]\n",
    "    )"
   ]
  },
  {
   "cell_type": "code",
   "execution_count": null,
   "metadata": {},
   "outputs": [],
   "source": [
    "zero_centered_boundary = 4\n",
    "step_size = 0.1\n",
    "xrange = np.arange(-zero_centered_boundary, zero_centered_boundary, step=step_size)\n",
    "\n"
   ]
  },
  {
   "cell_type": "code",
   "execution_count": 3,
   "metadata": {},
   "outputs": [],
   "source": [
    "# The abdsolute value of the first 5 eigenfunctions, this should be (2,5)\n",
    "A1 = None\n",
    "# The corresponding first 5 eigenvalues, this should be (1,5)\n",
    "A2 = None"
   ]
  },
  {
   "cell_type": "code",
   "execution_count": 19,
   "metadata": {},
   "outputs": [],
   "source": [
    "def shoot2(\n",
    "    x: np.array,\n",
    "    xshoot: Iterable,\n",
    "    n0: float,\n",
    "    beta: float,\n",
    ") -> np.array:\n",
    "    \"\"\"\"this is a doc string\"\"\"\n",
    "    return [x[1], (beta-n0)*x[0]]"
   ]
  },
  {
   "cell_type": "code",
   "execution_count": 20,
   "metadata": {},
   "outputs": [],
   "source": [
    "xshoot = [-1, 1]\n",
    "n0 = 100\n",
    "beta = 50\n",
    "\n",
    "x0 = np.array([0, 1])\n",
    "\n",
    "y = odeint(\n",
    "    shoot2,\n",
    "    x0,\n",
    "    xshoot,\n",
    "    args=(n0, beta)\n",
    ")"
   ]
  },
  {
   "cell_type": "code",
   "execution_count": 15,
   "metadata": {},
   "outputs": [
    {
     "data": {
      "image/png": "[encoded data removed]",
      "text/plain": [
       "<Figure size 640x480 with 1 Axes>"
      ]
     },
     "metadata": {},
     "output_type": "display_data"
    }
   ],
   "source": [
    "plt.plot(xshoot, y[:,0])\n",
    "plt.show()"
   ]
  },
  {
   "cell_type": "code",
   "execution_count": null,
   "metadata": {},
   "outputs": [],
   "source": []
  },
  {
   "cell_type": "code",
   "execution_count": null,
   "metadata": {},
   "outputs": [],
   "source": []
  },
  {
   "cell_type": "code",
   "execution_count": null,
   "metadata": {},
   "outputs": [],
   "source": []
  },
  {
   "cell_type": "code",
   "execution_count": null,
   "metadata": {},
   "outputs": [],
   "source": []
  },
  {
   "cell_type": "code",
   "execution_count": 3,
   "metadata": {},
   "outputs": [],
   "source": [
    "def bvpexam_rhs(\n",
    "    y: np.array,\n",
    "    x: float\n",
    ") -> np.array:\n",
    "    y_prime = [\n",
    "        y[1],\n",
    "        -(x**2 - np.sin(x))*y[1] + np.cos(x)**2*y[0] + 5\n",
    "    ]\n",
    "    return y_prime"
   ]
  },
  {
   "cell_type": "code",
   "execution_count": 4,
   "metadata": {},
   "outputs": [],
   "source": [
    "xspan = [0, 1]\n",
    "y_1_at_0 = 3\n",
    "y_2_at_1 = 5\n",
    "\n",
    "A = -3\n",
    "dA = 0.5\n",
    "\n",
    "for j in range(100):\n",
    "    y0 = [3, A]\n",
    "    x = np.linspace(xspan[0], xspan[1], 100)\n",
    "    ysol = odeint(bvpexam_rhs, y0=y0, t=x)\n",
    "\n",
    "    if np.abs(ysol[-1, 1] - y_2_at_1) < 1e-6:\n",
    "        break\n",
    "\n",
    "    if ysol[-1, 1]  < 5:\n",
    "        A += dA\n",
    "    else:\n",
    "        A -= dA\n",
    "        dA /= 2\n",
    "    "
   ]
  },
  {
   "cell_type": "code",
   "execution_count": null,
   "metadata": {},
   "outputs": [],
   "source": []
  }
 ],
 "metadata": {
  "kernelspec": {
   "display_name": "uw-dev-env",
   "language": "python",
   "name": "python3"
  },
  "language_info": {
   "codemirror_mode": {
    "name": "ipython",
    "version": 3
   },
   "file_extension": ".py",
   "mimetype": "text/x-python",
   "name": "python",
   "nbconvert_exporter": "python",
   "pygments_lexer": "ipython3",
   "version": "3.11.8"
  }
 },
 "nbformat": 4,
 "nbformat_minor": 2
}
