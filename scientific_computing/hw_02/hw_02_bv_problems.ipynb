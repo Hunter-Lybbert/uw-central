{
 "cells": [
  {
   "cell_type": "code",
   "execution_count": 2,
   "metadata": {},
   "outputs": [],
   "source": [
    "import numpy as np\n",
    "import matplotlib.pyplot as plt\n",
    "from scipy.integrate import odeint\n"
   ]
  },
  {
   "cell_type": "code",
   "execution_count": 3,
   "metadata": {},
   "outputs": [],
   "source": [
    "def bvpexam_rhs(\n",
    "    y: np.array,\n",
    "    x: float\n",
    ") -> np.array:\n",
    "    y_prime = [\n",
    "        y[1],\n",
    "        -(x**2 - np.sin(x))*y[1] + np.cos(x)**2*y[0] + 5\n",
    "    ]\n",
    "    return y_prime"
   ]
  },
  {
   "cell_type": "code",
   "execution_count": 4,
   "metadata": {},
   "outputs": [],
   "source": [
    "xspan = [0, 1]\n",
    "y_1_at_0 = 3\n",
    "y_2_at_1 = 5\n",
    "\n",
    "A = -3\n",
    "dA = 0.5\n",
    "\n",
    "for j in range(100):\n",
    "    y0 = [3, A]\n",
    "    x = np.linspace(xspan[0], xspan[1], 100)\n",
    "    ysol = odeint(bvpexam_rhs, y0=y0, t=x)\n",
    "\n",
    "    if np.abs(ysol[-1, 1] - y_2_at_1) < 1e-6:\n",
    "        break\n",
    "\n",
    "    if ysol[-1, 1]  < 5:\n",
    "        A += dA\n",
    "    else:\n",
    "        A -= dA\n",
    "        dA /= 2\n",
    "    "
   ]
  },
  {
   "cell_type": "code",
   "execution_count": null,
   "metadata": {},
   "outputs": [],
   "source": []
  }
 ],
 "metadata": {
  "kernelspec": {
   "display_name": "uw-dev-env",
   "language": "python",
   "name": "python3"
  },
  "language_info": {
   "codemirror_mode": {
    "name": "ipython",
    "version": 3
   },
   "file_extension": ".py",
   "mimetype": "text/x-python",
   "name": "python",
   "nbconvert_exporter": "python",
   "pygments_lexer": "ipython3",
   "version": "3.11.8"
  }
 },
 "nbformat": 4,
 "nbformat_minor": 2
}
