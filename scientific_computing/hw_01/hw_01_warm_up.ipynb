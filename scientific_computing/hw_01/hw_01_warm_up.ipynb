{
 "cells": [
  {
   "cell_type": "markdown",
   "id": "5a5a565d-c33b-4870-9691-945cbb9c675e",
   "metadata": {},
   "source": [
    "# HW 1 Warm Up\n",
    "#### Hunter Lybbert\n",
    "#### Student ID 2426454\n",
    "#### 09-27-24"
   ]
  },
  {
   "cell_type": "code",
   "execution_count": 1,
   "id": "a7c59174-ad7c-4098-89b3-b396dd13f569",
   "metadata": {},
   "outputs": [],
   "source": [
    "import numpy as np\n",
    "import matplotlib.pyplot as plt\n",
    "from scipy.optimize import newton, bisect"
   ]
  },
  {
   "cell_type": "code",
   "execution_count": 2,
   "id": "01ec3c27",
   "metadata": {},
   "outputs": [],
   "source": [
    "def my_bisection_method(\n",
    "    func: callable,\n",
    "    a: float,\n",
    "    b: float,\n",
    "    tol: float = 1e-6,\n",
    "    max_iter: int = 100,\n",
    ") -> tuple[float, int, np.array]:\n",
    "    \"\"\"\n",
    "    The basic bisection method for root finding.\n",
    "\n",
    "    returns the tuple of the root, the number of iterations, and the midpoint values from throughout\n",
    "\n",
    "    \"\"\"\n",
    "    x_mids = []\n",
    "\n",
    "    for i in range(0, max_iter):\n",
    "        x_current = (b + a)/2\n",
    "        x_mids.append(x_current)\n",
    "        f_current = func(x_current)\n",
    "        if ( f_current > 0 ):\n",
    "            a = x_current\n",
    "        else:\n",
    "            b = x_current\n",
    "        if ( abs(f_current) < tol ):\n",
    "            break\n",
    "\n",
    "    return (x_current, len(x_mids), np.array(x_mids))\n",
    "\n",
    "\n",
    "def my_newton_raphson_method(\n",
    "    func: callable,\n",
    "    func_prime: callable,\n",
    "    x: float,\n",
    "    tol: float = 1e-6,\n",
    "    max_iter: int = 1000,\n",
    ") -> tuple[float, int, np.array]:\n",
    "    \"\"\"\n",
    "    The basic newton raphson method for root finding.\n",
    "\n",
    "    returns the tuple of the root, the number of iterations, and the values of x along the way\n",
    "    \"\"\"\n",
    "    x_prev = x\n",
    "    x_guesses = [x_prev]\n",
    "\n",
    "    for i in range(max_iter):\n",
    "        \n",
    "        x_current = (\n",
    "            x_prev - func(x_prev)/func_prime(x_prev)\n",
    "        )\n",
    "        x_prev = x_current\n",
    "        x_guesses.append(x_current)\n",
    "        f_current = func(x_current)\n",
    "        if abs(f_current) < tol:\n",
    "            break\n",
    "\n",
    "\n",
    "    return (x_current, len(x_guesses), np.array(x_guesses))\n"
   ]
  },
  {
   "cell_type": "code",
   "execution_count": 3,
   "id": "8a57f617",
   "metadata": {},
   "outputs": [],
   "source": [
    "# Here are some test functions\n",
    "# test_func = lambda x: np.exp(x) - np.tan(x)\n",
    "# test_func_prime = lambda x: np.exp(x) - 1 / np.cos(x)**2\n",
    "\n",
    "# my_bisection_method(test_func, a=-4, b=-2.8, tol=1e-5)\n",
    "# my_newton_raphson_method(func=test_func, func_prime=test_func_prime, x=-4, tol=1e-5)"
   ]
  },
  {
   "cell_type": "markdown",
   "id": "308a5f86-ae95-4fb0-8b15-6bc6c20924dd",
   "metadata": {},
   "source": [
    "## Part I"
   ]
  },
  {
   "cell_type": "code",
   "execution_count": 4,
   "id": "ed556e05-741a-403b-abe4-8ddc27d7e8a8",
   "metadata": {},
   "outputs": [],
   "source": [
    "def func(x: float) -> float:\n",
    "    \"\"\"The function we are trying to approximate today\"\"\"\n",
    "    return x*np.sin(3*x) - np.exp(x)\n",
    "\n",
    "def func_prime(x: float) -> float:\n",
    "    \"\"\"The derivative of `func` so we can use newtons method\"\"\"\n",
    "    return np.sin(3*x) + 3*x*np.cos(3*x) - np.exp(x)"
   ]
  },
  {
   "cell_type": "code",
   "execution_count": 5,
   "id": "ccf6c206-df74-4621-aed1-879b97374d11",
   "metadata": {},
   "outputs": [],
   "source": [
    "res_newton = newton(\n",
    "    func=func,\n",
    "    x0=-1.6,\n",
    "    full_output=True,\n",
    "    tol=1e-6\n",
    ")"
   ]
  },
  {
   "cell_type": "code",
   "execution_count": 6,
   "id": "8e713318",
   "metadata": {},
   "outputs": [
    {
     "data": {
      "text/plain": [
       "(np.float64(-2.1134609842346768),\n",
       "       converged: True\n",
       "            flag: converged\n",
       "  function_calls: 8\n",
       "      iterations: 7\n",
       "            root: -2.1134609842346768\n",
       "          method: secant)"
      ]
     },
     "execution_count": 6,
     "metadata": {},
     "output_type": "execute_result"
    }
   ],
   "source": [
    "res_newton"
   ]
  },
  {
   "cell_type": "code",
   "execution_count": 7,
   "id": "bb182f29",
   "metadata": {},
   "outputs": [],
   "source": [
    "my_res_newton = my_newton_raphson_method(func=func, func_prime=func_prime, x=-1.6)"
   ]
  },
  {
   "cell_type": "code",
   "execution_count": 8,
   "id": "76ace91c",
   "metadata": {},
   "outputs": [
    {
     "data": {
      "text/plain": [
       "(np.float64(-0.57078961788788),\n",
       " 11,\n",
       " array([-1.6       ,  3.19799514,  2.46440244,  1.2035359 ,  0.65020146,\n",
       "        -0.11692334, -0.66052349, -0.52192654, -0.56655274, -0.57074658,\n",
       "        -0.57078962]))"
      ]
     },
     "execution_count": 8,
     "metadata": {},
     "output_type": "execute_result"
    }
   ],
   "source": [
    "my_res_newton"
   ]
  },
  {
   "cell_type": "code",
   "execution_count": 9,
   "id": "1e5e60cb-79c8-4fd4-85d1-7773f0384022",
   "metadata": {},
   "outputs": [],
   "source": [
    "res_bisect = bisect(\n",
    "    f=func,\n",
    "    a=-0.7,\n",
    "    b=-0.4,\n",
    "    full_output=True,\n",
    "    xtol=1e-6,\n",
    ")"
   ]
  },
  {
   "cell_type": "code",
   "execution_count": 10,
   "id": "65db1a6f",
   "metadata": {},
   "outputs": [
    {
     "data": {
      "text/plain": [
       "(-0.5707899093627932,\n",
       "       converged: True\n",
       "            flag: converged\n",
       "  function_calls: 21\n",
       "      iterations: 19\n",
       "            root: -0.5707899093627932\n",
       "          method: bisect)"
      ]
     },
     "execution_count": 10,
     "metadata": {},
     "output_type": "execute_result"
    }
   ],
   "source": [
    "res_bisect"
   ]
  },
  {
   "cell_type": "code",
   "execution_count": 11,
   "id": "9ffda9b6",
   "metadata": {},
   "outputs": [],
   "source": [
    "my_res_bisect = my_bisection_method(\n",
    "    func=func,\n",
    "    a=-0.7,\n",
    "    b=-0.4,\n",
    ")"
   ]
  },
  {
   "cell_type": "code",
   "execution_count": 12,
   "id": "1ee2f5c1",
   "metadata": {},
   "outputs": [
    {
     "data": {
      "text/plain": [
       "(-0.5707893371582031,\n",
       " 17,\n",
       " array([-0.55      , -0.625     , -0.5875    , -0.56875   , -0.578125  ,\n",
       "        -0.5734375 , -0.57109375, -0.56992188, -0.57050781, -0.57080078,\n",
       "        -0.5706543 , -0.57072754, -0.57076416, -0.57078247, -0.57079163,\n",
       "        -0.57078705, -0.57078934]))"
      ]
     },
     "execution_count": 12,
     "metadata": {},
     "output_type": "execute_result"
    }
   ],
   "source": [
    "my_res_bisect"
   ]
  },
  {
   "cell_type": "code",
   "execution_count": 13,
   "id": "2673384c-184a-448d-94d8-1f2e105dce2e",
   "metadata": {},
   "outputs": [],
   "source": [
    "# A1 is the vector of x-values in the Newton method starting with the initial guess x(1) = -1.6\n",
    "A1 = my_res_newton[-1]\n",
    "# A2 is the midpoint x_mid values in the bisection method for successive iterations\n",
    "A2 = my_res_bisect[-1]\n",
    "# A3 is a 1x2 vector with number of iterations for the Newton and bisection methods respectively as the two components\n",
    "A3 = np.array([my_res_newton[1], my_res_bisect[1]])"
   ]
  },
  {
   "cell_type": "code",
   "execution_count": 14,
   "id": "016f1f01",
   "metadata": {},
   "outputs": [
    {
     "data": {
      "text/plain": [
       "array([-1.6       ,  3.19799514,  2.46440244,  1.2035359 ,  0.65020146,\n",
       "       -0.11692334, -0.66052349, -0.52192654, -0.56655274, -0.57074658,\n",
       "       -0.57078962])"
      ]
     },
     "execution_count": 14,
     "metadata": {},
     "output_type": "execute_result"
    }
   ],
   "source": [
    "A1"
   ]
  },
  {
   "cell_type": "code",
   "execution_count": 15,
   "id": "52285c87",
   "metadata": {},
   "outputs": [
    {
     "data": {
      "text/plain": [
       "array([-0.55      , -0.625     , -0.5875    , -0.56875   , -0.578125  ,\n",
       "       -0.5734375 , -0.57109375, -0.56992188, -0.57050781, -0.57080078,\n",
       "       -0.5706543 , -0.57072754, -0.57076416, -0.57078247, -0.57079163,\n",
       "       -0.57078705, -0.57078934])"
      ]
     },
     "execution_count": 15,
     "metadata": {},
     "output_type": "execute_result"
    }
   ],
   "source": [
    "A2"
   ]
  },
  {
   "cell_type": "code",
   "execution_count": 16,
   "id": "1ce593fd",
   "metadata": {},
   "outputs": [
    {
     "data": {
      "text/plain": [
       "array([11, 17])"
      ]
     },
     "execution_count": 16,
     "metadata": {},
     "output_type": "execute_result"
    }
   ],
   "source": [
    "A3"
   ]
  },
  {
   "cell_type": "markdown",
   "id": "a9a62603-7396-4ec3-a1e7-fcd7d1ac2f1d",
   "metadata": {},
   "source": [
    "## Part II"
   ]
  },
  {
   "cell_type": "code",
   "execution_count": 17,
   "id": "260a5843-f8c9-419f-a80f-90ee2be6b7cc",
   "metadata": {},
   "outputs": [],
   "source": [
    "A = np.array([\n",
    "    [ 1, 2],\n",
    "    [-1, 1],\n",
    "])\n",
    "B = np.array([\n",
    "    [2, 0],\n",
    "    [0, 2],\n",
    "])\n",
    "C = np.array([\n",
    "    [2, 0, -3],\n",
    "    [0, 0, -1],\n",
    "])\n",
    "D = np.array([\n",
    "    [1, 2],\n",
    "    [2, 3],\n",
    "    [-1, 0],\n",
    "])\n",
    "x = np.array([1, 0])\n",
    "y = np.array([0, 1])\n",
    "z = np.array([1, 2, -1])"
   ]
  },
  {
   "cell_type": "code",
   "execution_count": 18,
   "id": "258d17f3-2d46-41a8-bc14-80f106af5c91",
   "metadata": {},
   "outputs": [],
   "source": [
    "A4 = A + B"
   ]
  },
  {
   "cell_type": "code",
   "execution_count": 19,
   "id": "0b727fde-5902-42d5-9201-ab58d3436625",
   "metadata": {},
   "outputs": [],
   "source": [
    "A5 = 3*x - 4*y"
   ]
  },
  {
   "cell_type": "code",
   "execution_count": 20,
   "id": "9dc0b8a5-6a6e-414f-a353-3d93426e1cfb",
   "metadata": {},
   "outputs": [],
   "source": [
    "A6 = A@x"
   ]
  },
  {
   "cell_type": "code",
   "execution_count": 21,
   "id": "723ddb0e-145d-43a0-b499-ba828cd48e0f",
   "metadata": {},
   "outputs": [],
   "source": [
    "A7 = B@(x - y)"
   ]
  },
  {
   "cell_type": "code",
   "execution_count": 22,
   "id": "170354e6-cf68-45a6-8498-d88b79c299e9",
   "metadata": {},
   "outputs": [],
   "source": [
    "A8 = D@x"
   ]
  },
  {
   "cell_type": "code",
   "execution_count": 23,
   "id": "a3949d3a-2cf3-40dd-ac61-e87d0167ec73",
   "metadata": {},
   "outputs": [],
   "source": [
    "A9 = D@y + z"
   ]
  },
  {
   "cell_type": "code",
   "execution_count": 24,
   "id": "b4bcfda1-2694-45cc-955f-d9dc6d0a2695",
   "metadata": {},
   "outputs": [],
   "source": [
    "A10 = A@B"
   ]
  },
  {
   "cell_type": "code",
   "execution_count": 25,
   "id": "2a231fa8-18e3-48c3-9d66-7db51dc9c0f5",
   "metadata": {},
   "outputs": [],
   "source": [
    "A11 = B@C"
   ]
  },
  {
   "cell_type": "code",
   "execution_count": 26,
   "id": "03a8374a-2ec5-454c-a910-c69e7596337f",
   "metadata": {},
   "outputs": [],
   "source": [
    "A12 = C@D"
   ]
  }
 ],
 "metadata": {
  "kernelspec": {
   "display_name": "Python 3 (ipykernel)",
   "language": "python",
   "name": "python3"
  },
  "language_info": {
   "codemirror_mode": {
    "name": "ipython",
    "version": 3
   },
   "file_extension": ".py",
   "mimetype": "text/x-python",
   "name": "python",
   "nbconvert_exporter": "python",
   "pygments_lexer": "ipython3",
   "version": "3.11.8"
  }
 },
 "nbformat": 4,
 "nbformat_minor": 5
}
