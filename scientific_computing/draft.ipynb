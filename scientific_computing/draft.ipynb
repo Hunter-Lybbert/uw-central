{
 "cells": [
  {
   "cell_type": "markdown",
   "metadata": {},
   "source": [
    "# HW 3 Draft"
   ]
  },
  {
   "cell_type": "markdown",
   "metadata": {},
   "source": [
    "This is the problem we are starting with\n",
    "$$y\\prime \\prime + 3 y \\prime  + 6 = 5$$\n",
    "$$y(1) = 3$$\n",
    "$$ y(3) + 2y\\prime(3) = 5$$\n",
    "$$x \\in [1, 3]$$\n",
    "Turn it into a 1st order system\n",
    "$$\n",
    "\\begin{align*}\n",
    "y_1 &= y& \\quad y_1\\prime &= y\\prime& \\quad y_1\\prime &= y_2 \\\\\n",
    "y_2 &= y\\prime& \\quad y_2\\prime &= y\\prime\\prime& \\quad y_2\\prime &= 5 - 3y_2 - 6y_1 \\\\\n",
    "\\\\ \\\\\n",
    "x &= 1:& y_1 - 3 &= 0 \\\\\n",
    "x &= 3:& y_1 + 2y_2 - 3 &= 0 \\\\\n",
    "\\end{align*}\n",
    "$$"
   ]
  },
  {
   "cell_type": "markdown",
   "metadata": {},
   "source": [
    "What I'm responsible for:\n",
    "\n",
    "1. Setup the ODE (turn it into a system of first order of equations)\n",
    "2. Setup the Boundary Conditions."
   ]
  },
  {
   "cell_type": "code",
   "execution_count": 5,
   "metadata": {},
   "outputs": [],
   "source": [
    "import numpy as np\n",
    "from scipy.integrate import solve_bvp\n",
    "import matplotlib.pyplot as plt"
   ]
  },
  {
   "cell_type": "code",
   "execution_count": 10,
   "metadata": {},
   "outputs": [],
   "source": [
    "def bvp_right_hand_side(x, y: np.array) -> np.array:\n",
    "    return np.array([y[1], 5 - 3*y[1] - 6*y[0]])\n",
    "\n",
    "\n",
    "def bvp_coundary_conditions(ya, yb) ->np.array:\n",
    "    return np.array([ya[0] - 3, yb[0] + yb[1] - 5])"
   ]
  },
  {
   "cell_type": "code",
   "execution_count": 11,
   "metadata": {},
   "outputs": [],
   "source": [
    "x_init = np.linspace(1,3, 10)\n",
    "y_init = np.zeros((2, x_init.size))\n",
    "\n",
    "\n",
    "sol = solve_bvp(\n",
    "    fun=bvp_right_hand_side,\n",
    "    bc=bvp_coundary_conditions,\n",
    "    x=x_init,\n",
    "    y=y_init,\n",
    ")"
   ]
  },
  {
   "cell_type": "code",
   "execution_count": 12,
   "metadata": {},
   "outputs": [
    {
     "data": {
      "text/plain": [
       "       message: The algorithm converged to the desired accuracy.\n",
       "       success: True\n",
       "        status: 0\n",
       "             x: [ 1.000e+00  1.111e+00 ...  2.778e+00  3.000e+00]\n",
       "           sol: <scipy.interpolate._interpolate.PPoly object at 0x126b23770>\n",
       "             p: None\n",
       "             y: [[ 3.000e+00 -1.045e+01 ...  2.181e+00  3.159e+00]\n",
       "                 [-1.433e+02 -9.968e+01 ...  7.361e+00  1.841e+00]]\n",
       "            yp: [[-1.433e+02 -9.968e+01 ...  7.361e+00  1.841e+00]\n",
       "                 [ 4.170e+02  3.667e+02 ... -3.017e+01 -1.948e+01]]\n",
       " rms_residuals: [ 1.324e-04  1.137e-04 ...  1.200e-04  7.634e-04]\n",
       "         niter: 2"
      ]
     },
     "execution_count": 12,
     "metadata": {},
     "output_type": "execute_result"
    }
   ],
   "source": [
    "sol"
   ]
  },
  {
   "cell_type": "code",
   "execution_count": 13,
   "metadata": {},
   "outputs": [],
   "source": [
    "x_eval = np.linspace(1, 3, 100)\n",
    "BS = sol.sol(x_eval)"
   ]
  },
  {
   "cell_type": "code",
   "execution_count": 15,
   "metadata": {},
   "outputs": [
    {
     "data": {
      "image/png": "[encoded data removed]",
      "text/plain": [
       "<Figure size 640x480 with 1 Axes>"
      ]
     },
     "metadata": {},
     "output_type": "display_data"
    }
   ],
   "source": [
    "plt.plot(x_eval, BS[0])\n",
    "plt.show()"
   ]
  },
  {
   "cell_type": "markdown",
   "metadata": {},
   "source": [
    "This is the problem we are starting with\n",
    "$$y\\prime \\prime + (100 - \\beta) y + ry^3 = 0$$\n",
    "$$y(-1) = 0$$\n",
    "$$ y(1) = 0$$\n",
    "$$x \\in [-1, 1]$$\n",
    "Turn it into a 1st order system\n",
    "$$\n",
    "\\begin{align*}\n",
    "y_1 &= y& \\quad y_1\\prime &= y\\prime& \\quad y_1\\prime &= y_2 \\\\\n",
    "y_2 &= y\\prime& \\quad y_2\\prime &= y\\prime\\prime& \\quad y_2\\prime &= (\\beta - 100)y_1 - ry_1^3 \\\\\n",
    "\\\\ \\\\\n",
    "x &= -1:& y_1 &= 0 \\\\\n",
    "x &= 1:& y_1 &= 0 \\\\\n",
    "\\end{align*}\n",
    "$$"
   ]
  },
  {
   "cell_type": "code",
   "execution_count": 18,
   "metadata": {},
   "outputs": [
    {
     "ename": "TypeError",
     "evalue": "bvp_rhs2() missing 1 required positional argument: 'beta'",
     "output_type": "error",
     "traceback": [
      "\u001b[0;31m---------------------------------------------------------------------------\u001b[0m",
      "\u001b[0;31mTypeError\u001b[0m                                 Traceback (most recent call last)",
      "Cell \u001b[0;32mIn[18], line 13\u001b[0m\n\u001b[1;32m     10\u001b[0m x_init \u001b[38;5;241m=\u001b[39m np\u001b[38;5;241m.\u001b[39mlinspace(\u001b[38;5;241m-\u001b[39m\u001b[38;5;241m1\u001b[39m, \u001b[38;5;241m1\u001b[39m, \u001b[38;5;241m10\u001b[39m)\n\u001b[1;32m     11\u001b[0m y_init \u001b[38;5;241m=\u001b[39m np\u001b[38;5;241m.\u001b[39mzeros((\u001b[38;5;241m2\u001b[39m, x_init\u001b[38;5;241m.\u001b[39msize))\n\u001b[0;32m---> 13\u001b[0m sol \u001b[38;5;241m=\u001b[39m \u001b[43msolve_bvp\u001b[49m\u001b[43m(\u001b[49m\n\u001b[1;32m     14\u001b[0m \u001b[43m    \u001b[49m\u001b[43mfun\u001b[49m\u001b[38;5;241;43m=\u001b[39;49m\u001b[43mbvp_rhs2\u001b[49m\u001b[43m,\u001b[49m\n\u001b[1;32m     15\u001b[0m \u001b[43m    \u001b[49m\u001b[43mbc\u001b[49m\u001b[38;5;241;43m=\u001b[39;49m\u001b[43mbvp_bc2\u001b[49m\u001b[43m,\u001b[49m\n\u001b[1;32m     16\u001b[0m \u001b[43m    \u001b[49m\u001b[43mx\u001b[49m\u001b[38;5;241;43m=\u001b[39;49m\u001b[43mx_init\u001b[49m\u001b[43m,\u001b[49m\n\u001b[1;32m     17\u001b[0m \u001b[43m    \u001b[49m\u001b[43my\u001b[49m\u001b[38;5;241;43m=\u001b[39;49m\u001b[43my_init\u001b[49m\u001b[43m,\u001b[49m\n\u001b[1;32m     18\u001b[0m \u001b[43m)\u001b[49m\n\u001b[1;32m     21\u001b[0m x_eval \u001b[38;5;241m=\u001b[39m np\u001b[38;5;241m.\u001b[39mlinspace(\u001b[38;5;241m-\u001b[39m\u001b[38;5;241m1\u001b[39m, \u001b[38;5;241m1\u001b[39m, \u001b[38;5;241m300\u001b[39m)\n\u001b[1;32m     23\u001b[0m plt\u001b[38;5;241m.\u001b[39mplot(x_eval, sol\u001b[38;5;241m.\u001b[39msol(x_eval))\n",
      "File \u001b[0;32m~/.pyenv/versions/3.11.8/envs/uw-dev-env/lib/python3.11/site-packages/scipy/integrate/_bvp.py:1063\u001b[0m, in \u001b[0;36msolve_bvp\u001b[0;34m(fun, bc, x, y, p, S, fun_jac, bc_jac, tol, max_nodes, verbose, bc_tol)\u001b[0m\n\u001b[1;32m   1058\u001b[0m max_iteration \u001b[38;5;241m=\u001b[39m \u001b[38;5;241m10\u001b[39m\n\u001b[1;32m   1060\u001b[0m fun_wrapped, bc_wrapped, fun_jac_wrapped, bc_jac_wrapped \u001b[38;5;241m=\u001b[39m wrap_functions(\n\u001b[1;32m   1061\u001b[0m     fun, bc, fun_jac, bc_jac, k, a, S, D, dtype)\n\u001b[0;32m-> 1063\u001b[0m f \u001b[38;5;241m=\u001b[39m \u001b[43mfun_wrapped\u001b[49m\u001b[43m(\u001b[49m\u001b[43mx\u001b[49m\u001b[43m,\u001b[49m\u001b[43m \u001b[49m\u001b[43my\u001b[49m\u001b[43m,\u001b[49m\u001b[43m \u001b[49m\u001b[43mp\u001b[49m\u001b[43m)\u001b[49m\n\u001b[1;32m   1064\u001b[0m \u001b[38;5;28;01mif\u001b[39;00m f\u001b[38;5;241m.\u001b[39mshape \u001b[38;5;241m!=\u001b[39m y\u001b[38;5;241m.\u001b[39mshape:\n\u001b[1;32m   1065\u001b[0m     \u001b[38;5;28;01mraise\u001b[39;00m \u001b[38;5;167;01mValueError\u001b[39;00m(\u001b[38;5;124mf\u001b[39m\u001b[38;5;124m\"\u001b[39m\u001b[38;5;124m`fun` return is expected to have shape \u001b[39m\u001b[38;5;132;01m{\u001b[39;00my\u001b[38;5;241m.\u001b[39mshape\u001b[38;5;132;01m}\u001b[39;00m\u001b[38;5;124m, \u001b[39m\u001b[38;5;124m\"\u001b[39m\n\u001b[1;32m   1066\u001b[0m                      \u001b[38;5;124mf\u001b[39m\u001b[38;5;124m\"\u001b[39m\u001b[38;5;124mbut actually has \u001b[39m\u001b[38;5;132;01m{\u001b[39;00mf\u001b[38;5;241m.\u001b[39mshape\u001b[38;5;132;01m}\u001b[39;00m\u001b[38;5;124m.\u001b[39m\u001b[38;5;124m\"\u001b[39m)\n",
      "File \u001b[0;32m~/.pyenv/versions/3.11.8/envs/uw-dev-env/lib/python3.11/site-packages/scipy/integrate/_bvp.py:647\u001b[0m, in \u001b[0;36mwrap_functions.<locals>.fun_p\u001b[0;34m(x, y, _)\u001b[0m\n\u001b[1;32m    646\u001b[0m \u001b[38;5;28;01mdef\u001b[39;00m \u001b[38;5;21mfun_p\u001b[39m(x, y, _):\n\u001b[0;32m--> 647\u001b[0m     \u001b[38;5;28;01mreturn\u001b[39;00m np\u001b[38;5;241m.\u001b[39masarray(\u001b[43mfun\u001b[49m\u001b[43m(\u001b[49m\u001b[43mx\u001b[49m\u001b[43m,\u001b[49m\u001b[43m \u001b[49m\u001b[43my\u001b[49m\u001b[43m)\u001b[49m, dtype)\n",
      "\u001b[0;31mTypeError\u001b[0m: bvp_rhs2() missing 1 required positional argument: 'beta'"
     ]
    }
   ],
   "source": [
    "gamma = 1\n",
    "\n",
    "def bvp_rhs2(x, y, beta: float):\n",
    "    return np.array([y[1], (beta - 100)*y[0] - gamma*y[0]**3])\n",
    "\n",
    "def bvp_bc2(ya, yb, beta):\n",
    "    return np.array([ya[0], ya[1] - 0.1, yb[0]])\n",
    "\n",
    "beta = 99\n",
    "x_init = np.linspace(-1, 1, 10)\n",
    "y_init = np.zeros((2, x_init.size))\n",
    "\n",
    "sol = solve_bvp(\n",
    "    fun=bvp_rhs2,\n",
    "    bc=bvp_bc2,\n",
    "    x=x_init,\n",
    "    y=y_init,\n",
    ")\n",
    "\n",
    "\n",
    "x_eval = np.linspace(-1, 1, 300)\n",
    "\n",
    "plt.plot(x_eval, sol.sol(x_eval))\n",
    "plt.show()"
   ]
  },
  {
   "cell_type": "code",
   "execution_count": null,
   "metadata": {},
   "outputs": [],
   "source": []
  }
 ],
 "metadata": {
  "kernelspec": {
   "display_name": "uw-dev-env",
   "language": "python",
   "name": "python3"
  },
  "language_info": {
   "codemirror_mode": {
    "name": "ipython",
    "version": 3
   },
   "file_extension": ".py",
   "mimetype": "text/x-python",
   "name": "python",
   "nbconvert_exporter": "python",
   "pygments_lexer": "ipython3",
   "version": "3.11.8"
  }
 },
 "nbformat": 4,
 "nbformat_minor": 2
}
