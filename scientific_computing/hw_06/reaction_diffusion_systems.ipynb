{
 "cells": [
  {
   "cell_type": "code",
   "execution_count": 1,
   "metadata": {},
   "outputs": [],
   "source": [
    "import numpy as np\n",
    "from matplotlib import pyplot as plt\n",
    "from scipy.integrate import solve_ivp\n",
    "\n",
    "from pathlib import Path\n",
    "import os\n",
    "import sys\n",
    "\n",
    "# Setup for importing custom modules.\n",
    "sys.path.insert(0, str(Path(os.getcwd()).parent.parent))"
   ]
  },
  {
   "cell_type": "markdown",
   "metadata": {},
   "source": [
    "$$\n",
    "\\begin{align*}\n",
    "\\frac {\\partial}{\\partial t} \\left(\\begin{align*} u \\\\ v \\end{align*}\\right)\n",
    "    &=\n",
    "    \\left( \\begin{align*} &\\lambda (A) &-\\omega (A) \\\\ &\\omega (A) &\\lambda (A) \\end{align*} \\right)\n",
    "    \\left( \\begin{align*} u \\\\ v \\end{align*} \\right)\n",
    "    + D \\nabla^2 \\left( \\begin{align*} u \\\\ v \\end{align*} \\right) \\\\\n",
    "    &=\n",
    "    \\left( \\begin{align*} &1 - A^2 &\\beta A^2 \\\\ &-\\beta A^2 & 1 - A^2 \\end{align*} \\right)\n",
    "    \\left( \\begin{align*} u \\\\ v \\end{align*} \\right)\n",
    "    + D \\nabla^2 \\left( \\begin{align*} u \\\\ v \\end{align*} \\right)\n",
    "\\end{align*}\n",
    "$$\n",
    "with $A^2 = u^2 + v^2$.\n",
    "Furthermore this results in the following system\n",
    "$$\n",
    "U_t = \\lambda(A)U - \\omega(A)V + D_1 \\nabla^2 U \\\\\n",
    "V_t = \\omega(A)U + \\lambda(A)V + D_2 \\nabla^2 V\n",
    "$$\n",
    "plugging in what we have for $\\lambda(A) = 1 - A^2$ and $\\omega(A) = -\\beta A^2$, gives us\n",
    "$$\n",
    "\\begin{align*}\n",
    "U_t &= (1 - A^2) U + \\beta A^2 V + D_1 \\nabla^2 U \\\\\n",
    "V_t &= - \\beta A^2 U + (1 - A^2) V + D_2 \\nabla^2 V.\n",
    "\\end{align*}\n",
    "$$\n",
    "We can also advance things further by plugging in our values of $\\beta$ and $A^2$\n",
    "$$\n",
    "\\begin{align*}\n",
    "U_t &= U - U^3 + V^2 U + \\beta U^2 V + V^3 + D_1 \\nabla^2 U \\\\\n",
    "V_t &= - \\beta U^3 -\\beta V^2 U + V - U^2 v + V^3 + D_2 \\nabla^2 V.\n",
    "\\end{align*}\n",
    "$$\n",
    "Finally the second gradient operator is given by $\\nabla^2 = \\partial_x^2 + \\partial_y^2$, therefore we have\n",
    "$$\n",
    "\\begin{align*}\n",
    "U_t &= U - U^3 + V^2 U + \\beta U^2 V + V^3 + D_1 ( \\partial_x^2 U + \\partial_y^2 U ) \\\\\n",
    "V_t &= - \\beta U^3 -\\beta V^2 U + V - U^2 v + V^3 + D_2 ( \\partial_x^2 V + \\partial_y^2 V ).\n",
    "\\end{align*}\n",
    "$$"
   ]
  },
  {
   "cell_type": "code",
   "execution_count": null,
   "metadata": {},
   "outputs": [],
   "source": []
  }
 ],
 "metadata": {
  "kernelspec": {
   "display_name": "uw-dev-env",
   "language": "python",
   "name": "python3"
  },
  "language_info": {
   "codemirror_mode": {
    "name": "ipython",
    "version": 3
   },
   "file_extension": ".py",
   "mimetype": "text/x-python",
   "name": "python",
   "nbconvert_exporter": "python",
   "pygments_lexer": "ipython3",
   "version": "3.11.8"
  }
 },
 "nbformat": 4,
 "nbformat_minor": 2
}
