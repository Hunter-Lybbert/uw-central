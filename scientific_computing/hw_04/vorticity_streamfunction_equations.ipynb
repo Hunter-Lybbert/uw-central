{
 "cells": [
  {
   "cell_type": "code",
   "execution_count": 1,
   "metadata": {},
   "outputs": [],
   "source": [
    "import numpy as np\n",
    "from scipy.sparse import spdiags\n",
    "from matplotlib import pyplot"
   ]
  },
  {
   "cell_type": "code",
   "execution_count": null,
   "metadata": {},
   "outputs": [
    {
     "data": {
      "text/plain": [
       "array([[ 0.,  1.,  0.,  0., -1.],\n",
       "       [-1.,  0.,  1.,  0.,  0.],\n",
       "       [ 0., -1.,  0.,  1.,  0.],\n",
       "       [ 0.,  0., -1.,  0.,  1.],\n",
       "       [ 0.,  0.,  0., -1.,  0.]])"
      ]
     },
     "execution_count": 7,
     "metadata": {},
     "output_type": "execute_result"
    }
   ],
   "source": [
    "upper = 1*np.ones(5)\n",
    "lower = -1*np.ones(5)\n",
    "upper_corner = np.zeros(5)\n",
    "lower_corner = np.zeros(5)\n",
    "\n",
    "upper_corner[-1] = -1\n",
    "lower_corner[0] = 1\n",
    "\n",
    "matrix = spdiags([upper, lower, upper_corner, lower_corner], diags=np.array([1, -1, 4, -4]))\n",
    "\n",
    "matrix.toarray()"
   ]
  },
  {
   "cell_type": "code",
   "execution_count": null,
   "metadata": {},
   "outputs": [],
   "source": [
    "\n",
    "\n",
    "def first_derivative_matrix(n: int) -> np.array:\n",
    "    \"\"\"\n",
    "    :param n: the dimension of the (n, n) matrix\n",
    "\n",
    "    \"\"\"\n",
    "    matrix = spdiags()\n",
    "    return \n",
    "\n",
    "\n",
    "def second_derivative_matrix(n: int) -> np.array:\n",
    "    \"\"\"\n",
    "    :param n: the dimension of the (n, n) matrix\n",
    "\n",
    "    \"\"\"\n",
    "    matrix = spdiags()\n",
    "    return\n",
    "\n",
    "\n",
    "def build_matrices(n: int) -> np.array:\n",
    "    \"\"\"\n",
    "    :param n: the dimension of the (n,n) matrices\n",
    "    \"\"\"\n",
    "    A = second_derivative_matrix(n)\n",
    "    B = first_derivative_matrix(n)\n",
    "    C = first_derivative_matrix(n)\n",
    "\n",
    "    return A, B, C"
   ]
  }
 ],
 "metadata": {
  "kernelspec": {
   "display_name": "uw-dev-env",
   "language": "python",
   "name": "python3"
  },
  "language_info": {
   "codemirror_mode": {
    "name": "ipython",
    "version": 3
   },
   "file_extension": ".py",
   "mimetype": "text/x-python",
   "name": "python",
   "nbconvert_exporter": "python",
   "pygments_lexer": "ipython3",
   "version": "3.11.8"
  }
 },
 "nbformat": 4,
 "nbformat_minor": 2
}
