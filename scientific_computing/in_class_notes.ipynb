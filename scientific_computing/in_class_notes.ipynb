{
 "cells": [
  {
   "cell_type": "markdown",
   "metadata": {},
   "source": [
    "# Linear Operators"
   ]
  },
  {
   "cell_type": "markdown",
   "metadata": {},
   "source": [
    "$\\dot u = N(x, u, u_x, u_xx, ..., t$)\n",
    "\n",
    "Solution: $\\dot u = 0$\n",
    "$$N(x, U, U_x, U_xx, ...) = 0$$\n",
    "\n",
    "then we look at the linear stability using\n",
    "$$ u = U(x) + \\epsilon v(x, t)\\quad \\text{with} \\: \\epsilon << 1$$\n",
    "\n",
    "plugging this back into the first equation we have\n",
    "\n",
    "$$\\frac{\\text{d}v}{\\text{d}t} = \\mathcal{L}v + \\mathcal{o}(\\epsilon)$$\n",
    "\n",
    "this is a linear operator. Since $v = w\\text{e}^{\\lambda t}$ we then have\n",
    "$$\\mathcal{L}w = \\lambda w$$\n",
    "\n",
    "Example, Sturm–Liouville:\n",
    "$$\\mathcal{L}v = -\\frac{\\text{d}v}{\\text{d}x}\\left[ p(x)\\frac{\\text{d}v}{\\text{d}x} \\right] + q(x)v = \\lambda w(x) v $$\n",
    "with boundary conditions\n",
    "$$\n",
    "\\begin{align*}\n",
    "\\alpha_1 v(a) + \\alpha_2 \\frac{\\text{d}v}{\\text{d}x}(a) &= 0 \\\\\n",
    "\\beta_1 v(b) + \\beta_2 \\frac{\\text{d}v}{\\text{d}x}(b) &= 0\n",
    "\\end{align*}\n",
    "$$"
   ]
  },
  {
   "cell_type": "markdown",
   "metadata": {},
   "source": [
    "#### Derivative matrices\n",
    "$$\n",
    "\\frac{\\partial}{\\partial x} \\implies \\frac{y_{n + 1} - y_{n - 1}}{2 \\Delta x} + \\mathcal{O}((\\Delta x)^2)\n",
    "$$\n",
    "Another thing\n",
    "$$\n",
    "\\frac{\\text{d}y_0}{\\text{d}x} = \\frac{-3y_0 + 4y_1 - y_2}{2\\Delta x}\n",
    "$$\n",
    "Second derivative\n",
    "$$\n",
    "\\frac{\\partial^2}{\\partial x^2} = \\frac{y_{n + 1} - 2y_n + y_{n - 1}}{(\\Delta x)^2}\n",
    "$$\n",
    "Look in the notes for the second orders worked out."
   ]
  },
  {
   "cell_type": "markdown",
   "metadata": {},
   "source": [
    "This is going to be useful on some hw\n",
    "$$\n",
    "\\mathcal{L}v = - \\frac{\\text{d}^2v}{\\text{d}x^2} + x^2v = \\lambda v\n",
    "$$"
   ]
  },
  {
   "cell_type": "code",
   "execution_count": null,
   "metadata": {},
   "outputs": [],
   "source": [
    "import numpy as np"
   ]
  },
  {
   "cell_type": "code",
   "execution_count": null,
   "metadata": {},
   "outputs": [],
   "source": [
    "N = None\n",
    "dx = None\n",
    "\n",
    "# Ue Dirichlet boundary conditions\n",
    "A = np.zeros((N, N))\n",
    "for j in range(N - 1):\n",
    "    A[j, j + 1] = 1\n",
    "    A[j, j + 1] = -1\n",
    "\n",
    "# Neumann matrices\n",
    "A2 = np.copy(A)\n",
    "...\n",
    "A2 = A2 / (2 * dx)\n",
    "\n",
    "# periodic boundary conditions\n",
    "A3 = np.copy(A)\n",
    "A3\n",
    "\n"
   ]
  }
 ],
 "metadata": {
  "kernelspec": {
   "display_name": "uw-dev-env",
   "language": "python",
   "name": "python3"
  },
  "language_info": {
   "name": "python",
   "version": "3.11.8"
  }
 },
 "nbformat": 4,
 "nbformat_minor": 2
}
