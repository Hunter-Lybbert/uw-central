{
 "cells": [
  {
   "cell_type": "markdown",
   "metadata": {},
   "source": [
    "# Class Notes\n",
    "## 10-11-24\n",
    "### Linear Operators\n"
   ]
  },
  {
   "cell_type": "markdown",
   "metadata": {},
   "source": [
    "$\\dot u = N(x, u, u_x, u_xx, ..., t$)\n",
    "\n",
    "Solution: $\\dot u = 0$\n",
    "$$N(x, U, U_x, U_xx, ...) = 0$$\n",
    "\n",
    "then we look at the linear stability using\n",
    "$$ u = U(x) + \\epsilon v(x, t)\\quad \\text{with} \\: \\epsilon << 1$$\n",
    "\n",
    "plugging this back into the first equation we have\n",
    "\n",
    "$$\\frac{\\text{d}v}{\\text{d}t} = \\mathcal{L}v + \\mathcal{o}(\\epsilon)$$\n",
    "\n",
    "this is a linear operator. Since $v = w\\text{e}^{\\lambda t}$ we then have\n",
    "$$\\mathcal{L}w = \\lambda w$$\n",
    "\n",
    "Example, Sturm–Liouville:\n",
    "$$\\mathcal{L}v = -\\frac{\\text{d}v}{\\text{d}x}\\left[ p(x)\\frac{\\text{d}v}{\\text{d}x} \\right] + q(x)v = \\lambda w(x) v $$\n",
    "with boundary conditions\n",
    "$$\n",
    "\\begin{align*}\n",
    "\\alpha_1 v(a) + \\alpha_2 \\frac{\\text{d}v}{\\text{d}x}(a) &= 0 \\\\\n",
    "\\beta_1 v(b) + \\beta_2 \\frac{\\text{d}v}{\\text{d}x}(b) &= 0\n",
    "\\end{align*}\n",
    "$$"
   ]
  },
  {
   "cell_type": "markdown",
   "metadata": {},
   "source": [
    "#### Derivative matrices\n",
    "$$\n",
    "\\frac{\\partial}{\\partial x} \\implies \\frac{y_{n + 1} - y_{n - 1}}{2 \\Delta x} + \\mathcal{O}((\\Delta x)^2)\n",
    "$$\n",
    "Another thing\n",
    "$$\n",
    "\\frac{\\text{d}y_0}{\\text{d}x} = \\frac{-3y_0 + 4y_1 - y_2}{2\\Delta x}\n",
    "$$\n",
    "Second derivative\n",
    "$$\n",
    "\\frac{\\partial^2}{\\partial x^2} = \\frac{y_{n + 1} - 2y_n + y_{n - 1}}{(\\Delta x)^2}\n",
    "$$\n",
    "Look in the notes for the second orders worked out."
   ]
  },
  {
   "cell_type": "markdown",
   "metadata": {},
   "source": [
    "This is going to be useful on some hw\n",
    "$$\n",
    "\\mathcal{L}v = - \\frac{\\text{d}^2v}{\\text{d}x^2} + x^2v = \\lambda v\n",
    "$$"
   ]
  },
  {
   "cell_type": "code",
   "execution_count": null,
   "metadata": {},
   "outputs": [],
   "source": [
    "import numpy as np"
   ]
  },
  {
   "cell_type": "code",
   "execution_count": null,
   "metadata": {},
   "outputs": [],
   "source": [
    "N = None\n",
    "dx = None\n",
    "\n",
    "# Ue Dirichlet boundary conditions\n",
    "A = np.zeros((N, N))\n",
    "for j in range(N - 1):\n",
    "    A[j, j + 1] = 1\n",
    "    A[j, j + 1] = -1\n",
    "\n",
    "# Neumann matrices\n",
    "A2 = np.copy(A)\n",
    "...\n",
    "A2 = A2 / (2 * dx)\n",
    "\n",
    "# periodic boundary conditions\n",
    "A3 = np.copy(A)\n",
    "A3\n",
    "\n"
   ]
  },
  {
   "cell_type": "markdown",
   "metadata": {},
   "source": [
    "## 10-14-24\n",
    "### Neural Network Method"
   ]
  },
  {
   "cell_type": "markdown",
   "metadata": {},
   "source": [
    "Formerly\n",
    "\n",
    "$\n",
    "\\dot y = f(t, y), \\quad y(0) = y_0\n",
    "$\n",
    "\n",
    "Generic form Runge-Kutta\n",
    "\n",
    "$y_{n + 1} = y_n + \\Delta t \\cdot \\phi$"
   ]
  },
  {
   "cell_type": "markdown",
   "metadata": {},
   "source": [
    "Now we consider the following\n",
    "\n",
    "$\n",
    "y = f_\\theta(x)\n",
    "$\n",
    "\n",
    "Where $y$ is the output, $f_\\theta$ is a model $f$ with parameters $\\theta$, and $x$ input features."
   ]
  },
  {
   "cell_type": "markdown",
   "metadata": {},
   "source": [
    "The fields that are doing the best with \"AI\" are language models, computer vision models, etc. because there is SO MUCH data they are practically just interpolating instead of trying to extrapolate. "
   ]
  },
  {
   "cell_type": "markdown",
   "metadata": {},
   "source": [
    "### Example\n",
    "We want to solve the Lorenz Equations"
   ]
  },
  {
   "cell_type": "code",
   "execution_count": null,
   "metadata": {},
   "outputs": [],
   "source": [
    "from torch"
   ]
  },
  {
   "cell_type": "code",
   "execution_count": 2,
   "metadata": {},
   "outputs": [
    {
     "data": {
      "text/plain": [
       "8576"
      ]
     },
     "execution_count": 2,
     "metadata": {},
     "output_type": "execute_result"
    }
   ],
   "source": [
    "3*64 + 64*64 + 64*64 + 64*3"
   ]
  },
  {
   "cell_type": "code",
   "execution_count": null,
   "metadata": {},
   "outputs": [],
   "source": []
  }
 ],
 "metadata": {
  "kernelspec": {
   "display_name": "uw-dev-env",
   "language": "python",
   "name": "python3"
  },
  "language_info": {
   "codemirror_mode": {
    "name": "ipython",
    "version": 3
   },
   "file_extension": ".py",
   "mimetype": "text/x-python",
   "name": "python",
   "nbconvert_exporter": "python",
   "pygments_lexer": "ipython3",
   "version": "3.11.8"
  }
 },
 "nbformat": 4,
 "nbformat_minor": 2
}
